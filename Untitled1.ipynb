{
 "cells": [
  {
   "cell_type": "code",
   "execution_count": 1,
   "metadata": {},
   "outputs": [],
   "source": [
    "def ADD_CSND_Browse_volume(ID,Browse_size):\n",
    "    '''该函数用于增加CSND浏览量，请谨慎使用！参数说明：\n",
    "    ID：你的CSND的ID号：   --字符型--\n",
    "    Browse_size:想要增加多少浏览量： --int--\n",
    "    '''\n",
    "    import os\n",
    "    os.getcwd()\n",
    "    from selenium import webdriver \n",
    "    from selenium.webdriver.common.by import By\n",
    "    import time\n",
    "    import random\n",
    "    time.sleep(3)  \n",
    "    browser = webdriver.Chrome()\n",
    "    time.sleep(6)  \n",
    "    login_url = \"https://blog.csdn.net/\"+ID\n",
    "    browser.get(login_url)\n",
    "    time.sleep(3)  \n",
    "    select=[]\n",
    "    for i in range(len(browser.find_elements_by_tag_name('h4'))):\n",
    "        select.append(i)\n",
    "    i=0\n",
    "    while i<Browse_size:\n",
    "        browser.find_elements_by_tag_name('h4')[random.choice(select)].click()  \n",
    "        time.sleep(8)  \n",
    "        handles=browser.window_handles \n",
    "        browser.switch_to.window(handles[1]) \n",
    "        time.sleep(5)  \n",
    "        browser.close() \n",
    "        time.sleep(3)  \n",
    "        browser.switch_to.window(handles[0]) \n",
    "        time.sleep(5) \n",
    "        i=i+1\n",
    "    browser.close() "
   ]
  },
  {
   "cell_type": "code",
   "execution_count": 3,
   "metadata": {},
   "outputs": [],
   "source": [
    "ADD_CSND_Browse_volume(\"weixin_41774099\",100)"
   ]
  },
  {
   "cell_type": "code",
   "execution_count": null,
   "metadata": {},
   "outputs": [],
   "source": []
  }
 ],
 "metadata": {
  "kernelspec": {
   "display_name": "Python 3",
   "language": "python",
   "name": "python3"
  },
  "language_info": {
   "codemirror_mode": {
    "name": "ipython",
    "version": 3
   },
   "file_extension": ".py",
   "mimetype": "text/x-python",
   "name": "python",
   "nbconvert_exporter": "python",
   "pygments_lexer": "ipython3",
   "version": "3.6.5"
  },
  "toc": {
   "base_numbering": 1,
   "nav_menu": {},
   "number_sections": true,
   "sideBar": true,
   "skip_h1_title": false,
   "title_cell": "Table of Contents",
   "title_sidebar": "Contents",
   "toc_cell": false,
   "toc_position": {},
   "toc_section_display": true,
   "toc_window_display": false
  }
 },
 "nbformat": 4,
 "nbformat_minor": 2
}
