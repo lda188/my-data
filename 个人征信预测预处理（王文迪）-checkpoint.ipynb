{
 "cells": [
  {
   "cell_type": "markdown",
   "metadata": {},
   "source": [
    "# 预处理"
   ]
  },
  {
   "cell_type": "code",
   "execution_count": 13,
   "metadata": {},
   "outputs": [],
   "source": [
    "import pandas as pd\n",
    "import numpy as np \n",
    "import matplotlib.pyplot as plt\n",
    "import seaborn as sns"
   ]
  },
  {
   "cell_type": "code",
   "execution_count": 14,
   "metadata": {},
   "outputs": [
    {
     "name": "stderr",
     "output_type": "stream",
     "text": [
      "C:\\ProgramData\\Anaconda3\\ana\\lib\\site-packages\\ipykernel_launcher.py:3: FutureWarning: read_table is deprecated, use read_csv instead.\n",
      "  This is separate from the ipykernel package so we can avoid doing imports until\n"
     ]
    },
    {
     "data": {
      "text/html": [
       "<div>\n",
       "<style scoped>\n",
       "    .dataframe tbody tr th:only-of-type {\n",
       "        vertical-align: middle;\n",
       "    }\n",
       "\n",
       "    .dataframe tbody tr th {\n",
       "        vertical-align: top;\n",
       "    }\n",
       "\n",
       "    .dataframe thead th {\n",
       "        text-align: right;\n",
       "    }\n",
       "</style>\n",
       "<table border=\"1\" class=\"dataframe\">\n",
       "  <thead>\n",
       "    <tr style=\"text-align: right;\">\n",
       "      <th></th>\n",
       "      <th>user_id</th>\n",
       "      <th>time</th>\n",
       "      <th>loan_type</th>\n",
       "      <th>loan_amount</th>\n",
       "      <th>income</th>\n",
       "    </tr>\n",
       "  </thead>\n",
       "  <tbody>\n",
       "    <tr>\n",
       "      <th>0</th>\n",
       "      <td>6965</td>\n",
       "      <td>5894316387</td>\n",
       "      <td>0</td>\n",
       "      <td>13.756664</td>\n",
       "      <td>0</td>\n",
       "    </tr>\n",
       "    <tr>\n",
       "      <th>1</th>\n",
       "      <td>6965</td>\n",
       "      <td>5894321388</td>\n",
       "      <td>1</td>\n",
       "      <td>13.756664</td>\n",
       "      <td>0</td>\n",
       "    </tr>\n",
       "    <tr>\n",
       "      <th>2</th>\n",
       "      <td>6965</td>\n",
       "      <td>5897553564</td>\n",
       "      <td>0</td>\n",
       "      <td>14.449810</td>\n",
       "      <td>0</td>\n",
       "    </tr>\n",
       "    <tr>\n",
       "      <th>3</th>\n",
       "      <td>6965</td>\n",
       "      <td>5897563463</td>\n",
       "      <td>1</td>\n",
       "      <td>10.527763</td>\n",
       "      <td>0</td>\n",
       "    </tr>\n",
       "    <tr>\n",
       "      <th>4</th>\n",
       "      <td>6965</td>\n",
       "      <td>5897564598</td>\n",
       "      <td>1</td>\n",
       "      <td>13.651303</td>\n",
       "      <td>0</td>\n",
       "    </tr>\n",
       "  </tbody>\n",
       "</table>\n",
       "</div>"
      ],
      "text/plain": [
       "   user_id        time  loan_type  loan_amount  income\n",
       "0     6965  5894316387          0    13.756664       0\n",
       "1     6965  5894321388          1    13.756664       0\n",
       "2     6965  5897553564          0    14.449810       0\n",
       "3     6965  5897563463          1    10.527763       0\n",
       "4     6965  5897564598          1    13.651303       0"
      ]
     },
     "execution_count": 14,
     "metadata": {},
     "output_type": "execute_result"
    }
   ],
   "source": [
    "#银行流水记录表\n",
    "columns = ['user_id','time','loan_type','loan_amount','income']\n",
    "df_bank_train = pd.read_table(r'C:\\Documents and Settings\\CDA.CDA-PC1\\Desktop\\个人征信预测\\bank_detail_train.txt',names = columns,sep=',' ) \n",
    "df_bank_train.head()"
   ]
  },
  {
   "cell_type": "code",
   "execution_count": 15,
   "metadata": {
    "scrolled": true
   },
   "outputs": [
    {
     "data": {
      "text/plain": [
       "user_id        0\n",
       "time           0\n",
       "loan_type      0\n",
       "loan_amount    0\n",
       "income         0\n",
       "dtype: int64"
      ]
     },
     "execution_count": 15,
     "metadata": {},
     "output_type": "execute_result"
    }
   ],
   "source": [
    "#有无缺失值\n",
    "df_bank_train.isnull().sum()"
   ]
  },
  {
   "cell_type": "code",
   "execution_count": 16,
   "metadata": {
    "scrolled": true
   },
   "outputs": [
    {
     "data": {
      "text/plain": [
       "9294"
      ]
     },
     "execution_count": 16,
     "metadata": {},
     "output_type": "execute_result"
    }
   ],
   "source": [
    "#用户ID的总数\n",
    "len(df_bank_train.user_id.unique())#有9294条不同用户在银行的流水记录"
   ]
  },
  {
   "cell_type": "code",
   "execution_count": 17,
   "metadata": {},
   "outputs": [
    {
     "name": "stderr",
     "output_type": "stream",
     "text": [
      "C:\\ProgramData\\Anaconda3\\ana\\lib\\site-packages\\ipykernel_launcher.py:7: FutureWarning: read_table is deprecated, use read_csv instead.\n",
      "  import sys\n",
      "C:\\ProgramData\\Anaconda3\\ana\\lib\\site-packages\\ipykernel_launcher.py:8: FutureWarning: read_table is deprecated, use read_csv instead.\n",
      "  \n",
      "C:\\ProgramData\\Anaconda3\\ana\\lib\\site-packages\\ipykernel_launcher.py:9: FutureWarning: read_table is deprecated, use read_csv instead.\n",
      "  if __name__ == '__main__':\n",
      "C:\\ProgramData\\Anaconda3\\ana\\lib\\site-packages\\ipykernel_launcher.py:10: FutureWarning: read_table is deprecated, use read_csv instead.\n",
      "  # Remove the CWD from sys.path while we load stuff.\n",
      "C:\\ProgramData\\Anaconda3\\ana\\lib\\site-packages\\ipykernel_launcher.py:11: FutureWarning: read_table is deprecated, use read_csv instead.\n",
      "  # This is added back by InteractiveShellApp.init_path()\n"
     ]
    },
    {
     "data": {
      "text/html": [
       "<div>\n",
       "<style scoped>\n",
       "    .dataframe tbody tr th:only-of-type {\n",
       "        vertical-align: middle;\n",
       "    }\n",
       "\n",
       "    .dataframe tbody tr th {\n",
       "        vertical-align: top;\n",
       "    }\n",
       "\n",
       "    .dataframe thead th {\n",
       "        text-align: right;\n",
       "    }\n",
       "</style>\n",
       "<table border=\"1\" class=\"dataframe\">\n",
       "  <thead>\n",
       "    <tr style=\"text-align: right;\">\n",
       "      <th></th>\n",
       "      <th>user_id</th>\n",
       "      <th>time</th>\n",
       "      <th>bank_id</th>\n",
       "      <th>last_bill_amount</th>\n",
       "      <th>last_repay_amount</th>\n",
       "      <th>credit_amount</th>\n",
       "      <th>cur_bill_bal</th>\n",
       "      <th>cur_bill_minrepay</th>\n",
       "      <th>cons_num</th>\n",
       "      <th>cur_bill_amount</th>\n",
       "      <th>adjust_amount</th>\n",
       "      <th>cyclic_accr</th>\n",
       "      <th>avail_bal</th>\n",
       "      <th>borrow_cash</th>\n",
       "      <th>repay_status</th>\n",
       "    </tr>\n",
       "  </thead>\n",
       "  <tbody>\n",
       "    <tr>\n",
       "      <th>0</th>\n",
       "      <td>3150</td>\n",
       "      <td>5906744363</td>\n",
       "      <td>6</td>\n",
       "      <td>18.626118</td>\n",
       "      <td>18.661937</td>\n",
       "      <td>20.664418</td>\n",
       "      <td>18.905766</td>\n",
       "      <td>17.847133</td>\n",
       "      <td>1</td>\n",
       "      <td>0.0</td>\n",
       "      <td>0.0</td>\n",
       "      <td>0.0</td>\n",
       "      <td>0.0</td>\n",
       "      <td>19.971271</td>\n",
       "      <td>0</td>\n",
       "    </tr>\n",
       "    <tr>\n",
       "      <th>1</th>\n",
       "      <td>3150</td>\n",
       "      <td>5906744401</td>\n",
       "      <td>6</td>\n",
       "      <td>18.905766</td>\n",
       "      <td>18.909954</td>\n",
       "      <td>20.664418</td>\n",
       "      <td>19.113305</td>\n",
       "      <td>17.911506</td>\n",
       "      <td>1</td>\n",
       "      <td>0.0</td>\n",
       "      <td>0.0</td>\n",
       "      <td>0.0</td>\n",
       "      <td>0.0</td>\n",
       "      <td>19.971271</td>\n",
       "      <td>0</td>\n",
       "    </tr>\n",
       "    <tr>\n",
       "      <th>2</th>\n",
       "      <td>3150</td>\n",
       "      <td>5906744427</td>\n",
       "      <td>6</td>\n",
       "      <td>19.113305</td>\n",
       "      <td>19.150290</td>\n",
       "      <td>20.664418</td>\n",
       "      <td>19.300194</td>\n",
       "      <td>17.977610</td>\n",
       "      <td>1</td>\n",
       "      <td>0.0</td>\n",
       "      <td>0.0</td>\n",
       "      <td>0.0</td>\n",
       "      <td>0.0</td>\n",
       "      <td>19.971271</td>\n",
       "      <td>0</td>\n",
       "    </tr>\n",
       "    <tr>\n",
       "      <th>3</th>\n",
       "      <td>3150</td>\n",
       "      <td>5906744515</td>\n",
       "      <td>6</td>\n",
       "      <td>19.300194</td>\n",
       "      <td>19.300280</td>\n",
       "      <td>21.000890</td>\n",
       "      <td>20.303240</td>\n",
       "      <td>18.477177</td>\n",
       "      <td>1</td>\n",
       "      <td>0.0</td>\n",
       "      <td>0.0</td>\n",
       "      <td>0.0</td>\n",
       "      <td>0.0</td>\n",
       "      <td>20.307743</td>\n",
       "      <td>0</td>\n",
       "    </tr>\n",
       "    <tr>\n",
       "      <th>4</th>\n",
       "      <td>3150</td>\n",
       "      <td>5906744562</td>\n",
       "      <td>6</td>\n",
       "      <td>20.303240</td>\n",
       "      <td>20.307744</td>\n",
       "      <td>21.000890</td>\n",
       "      <td>20.357134</td>\n",
       "      <td>18.510985</td>\n",
       "      <td>1</td>\n",
       "      <td>0.0</td>\n",
       "      <td>0.0</td>\n",
       "      <td>0.0</td>\n",
       "      <td>0.0</td>\n",
       "      <td>20.307743</td>\n",
       "      <td>0</td>\n",
       "    </tr>\n",
       "  </tbody>\n",
       "</table>\n",
       "</div>"
      ],
      "text/plain": [
       "   user_id        time  bank_id  last_bill_amount  last_repay_amount  \\\n",
       "0     3150  5906744363        6         18.626118          18.661937   \n",
       "1     3150  5906744401        6         18.905766          18.909954   \n",
       "2     3150  5906744427        6         19.113305          19.150290   \n",
       "3     3150  5906744515        6         19.300194          19.300280   \n",
       "4     3150  5906744562        6         20.303240          20.307744   \n",
       "\n",
       "   credit_amount  cur_bill_bal  cur_bill_minrepay  cons_num  cur_bill_amount  \\\n",
       "0      20.664418     18.905766          17.847133         1              0.0   \n",
       "1      20.664418     19.113305          17.911506         1              0.0   \n",
       "2      20.664418     19.300194          17.977610         1              0.0   \n",
       "3      21.000890     20.303240          18.477177         1              0.0   \n",
       "4      21.000890     20.357134          18.510985         1              0.0   \n",
       "\n",
       "   adjust_amount  cyclic_accr  avail_bal  borrow_cash  repay_status  \n",
       "0            0.0          0.0        0.0    19.971271             0  \n",
       "1            0.0          0.0        0.0    19.971271             0  \n",
       "2            0.0          0.0        0.0    19.971271             0  \n",
       "3            0.0          0.0        0.0    20.307743             0  \n",
       "4            0.0          0.0        0.0    20.307743             0  "
      ]
     },
     "execution_count": 17,
     "metadata": {},
     "output_type": "execute_result"
    }
   ],
   "source": [
    "#导入其他5张表并看下基本信息：\n",
    "columns1 = ['user_id','time','bank_id','last_bill_amount','last_repay_amount','credit_amount','cur_bill_bal','cur_bill_minrepay','cons_num','cur_bill_amount','adjust_amount','cyclic_accr','avail_bal','borrow_cash','repay_status']\n",
    "columns2 = ['user_id','time','brows_beh','brows_num']\n",
    "columns3 = ['user_id','time']\n",
    "columns4 = ['user_id','overdue']\n",
    "columns5 = ['user_id','sex','job','eduction','marriage','marriage']\n",
    "df_bill_train=pd.read_table(r'C:\\Documents and Settings\\CDA.CDA-PC1\\Desktop\\个人征信预测\\bill_detail_train.txt',names = columns1,sep=',' )   #账单记录表\n",
    "df_browse_train=pd.read_table(r'C:\\Documents and Settings\\CDA.CDA-PC1\\Desktop\\个人征信预测\\browse_history_train.txt',names = columns2,sep=',' ) #浏览信息表\n",
    "df_loan_train=pd.read_table(r'C:\\Documents and Settings\\CDA.CDA-PC1\\Desktop\\个人征信预测\\loan_time_train.txt',names = columns3,sep=',' ) #放款时间表\n",
    "df_overdue_train=pd.read_table(r'C:\\Documents and Settings\\CDA.CDA-PC1\\Desktop\\个人征信预测\\overdue_train.txt',names = columns4,sep=',' ) #逾期记录表\n",
    "df_user_train=pd.read_table(r'C:\\Documents and Settings\\CDA.CDA-PC1\\Desktop\\个人征信预测\\user_info_train.txt',names = columns5,sep=',' ) #用户信息表\n",
    "df_bill_train.head()"
   ]
  },
  {
   "cell_type": "code",
   "execution_count": 18,
   "metadata": {},
   "outputs": [
    {
     "name": "stdout",
     "output_type": "stream",
     "text": [
      "9294 53174 47330 55596 55596 55596\n"
     ]
    }
   ],
   "source": [
    "#看下各个表的用户id数\n",
    "print(len(df_bank_train.user_id.unique()),\n",
    "     len(df_bill_train.user_id.unique()),\n",
    "     len(df_browse_train.user_id.unique()),\n",
    "     len(df_loan_train.user_id.unique()),\n",
    "     len(df_overdue_train.user_id.unique()),\n",
    "     len(df_user_train.user_id.unique()))\n",
    "#并非每个用户都有银行流水记录、信用卡账单等信息，取6个表共同用户的记录筛选后组成完整的表"
   ]
  },
  {
   "cell_type": "code",
   "execution_count": 19,
   "metadata": {
    "scrolled": true
   },
   "outputs": [
    {
     "data": {
      "text/html": [
       "<div>\n",
       "<style scoped>\n",
       "    .dataframe tbody tr th:only-of-type {\n",
       "        vertical-align: middle;\n",
       "    }\n",
       "\n",
       "    .dataframe tbody tr th {\n",
       "        vertical-align: top;\n",
       "    }\n",
       "\n",
       "    .dataframe thead th {\n",
       "        text-align: right;\n",
       "    }\n",
       "</style>\n",
       "<table border=\"1\" class=\"dataframe\">\n",
       "  <thead>\n",
       "    <tr style=\"text-align: right;\">\n",
       "      <th></th>\n",
       "      <th>user_id</th>\n",
       "      <th>time_x</th>\n",
       "      <th>loan_type</th>\n",
       "      <th>loan_amount</th>\n",
       "      <th>income</th>\n",
       "      <th>time_y</th>\n",
       "    </tr>\n",
       "  </thead>\n",
       "  <tbody>\n",
       "    <tr>\n",
       "      <th>0</th>\n",
       "      <td>6965</td>\n",
       "      <td>5894316387</td>\n",
       "      <td>0</td>\n",
       "      <td>13.756664</td>\n",
       "      <td>0</td>\n",
       "      <td>5923841487</td>\n",
       "    </tr>\n",
       "    <tr>\n",
       "      <th>1</th>\n",
       "      <td>6965</td>\n",
       "      <td>5894321388</td>\n",
       "      <td>1</td>\n",
       "      <td>13.756664</td>\n",
       "      <td>0</td>\n",
       "      <td>5923841487</td>\n",
       "    </tr>\n",
       "    <tr>\n",
       "      <th>2</th>\n",
       "      <td>6965</td>\n",
       "      <td>5897553564</td>\n",
       "      <td>0</td>\n",
       "      <td>14.449810</td>\n",
       "      <td>0</td>\n",
       "      <td>5923841487</td>\n",
       "    </tr>\n",
       "    <tr>\n",
       "      <th>3</th>\n",
       "      <td>6965</td>\n",
       "      <td>5897563463</td>\n",
       "      <td>1</td>\n",
       "      <td>10.527763</td>\n",
       "      <td>0</td>\n",
       "      <td>5923841487</td>\n",
       "    </tr>\n",
       "    <tr>\n",
       "      <th>4</th>\n",
       "      <td>6965</td>\n",
       "      <td>5897564598</td>\n",
       "      <td>1</td>\n",
       "      <td>13.651303</td>\n",
       "      <td>0</td>\n",
       "      <td>5923841487</td>\n",
       "    </tr>\n",
       "  </tbody>\n",
       "</table>\n",
       "</div>"
      ],
      "text/plain": [
       "   user_id      time_x  loan_type  loan_amount  income      time_y\n",
       "0     6965  5894316387          0    13.756664       0  5923841487\n",
       "1     6965  5894321388          1    13.756664       0  5923841487\n",
       "2     6965  5897553564          0    14.449810       0  5923841487\n",
       "3     6965  5897563463          1    10.527763       0  5923841487\n",
       "4     6965  5897564598          1    13.651303       0  5923841487"
      ]
     },
     "execution_count": 19,
     "metadata": {},
     "output_type": "execute_result"
    }
   ],
   "source": [
    "#筛选符合条件的银行流水记录表的用户id：\n",
    "df = pd.merge(left = df_bank_train, right= df_loan_train, how = 'left',on = 'user_id')\n",
    "\n",
    "#time_x表示流水记录时间，time_y表示放款时间，然后筛选出流水时间<放款时间的记录：\n",
    "t = df[(df['time_x']<=df['time_y'])]\n",
    "t.head()"
   ]
  },
  {
   "cell_type": "code",
   "execution_count": 20,
   "metadata": {},
   "outputs": [
    {
     "name": "stdout",
     "output_type": "stream",
     "text": [
      "<class 'pandas.core.frame.DataFrame'>\n",
      "Int64Index: 9271 entries, 0 to 6069672\n",
      "Data columns (total 1 columns):\n",
      "user_id    9271 non-null int64\n",
      "dtypes: int64(1)\n",
      "memory usage: 144.9 KB\n"
     ]
    }
   ],
   "source": [
    "#筛选数用户id这一列并去重\n",
    "bank_user = t[['user_id']]\n",
    "bank_user = bank_user.drop_duplicates(subset = 'user_id',keep='first')\n",
    "bank_user.info()\n",
    "#在银行流水记录表中符合条件的还有9271个不同用户"
   ]
  },
  {
   "cell_type": "code",
   "execution_count": 21,
   "metadata": {},
   "outputs": [
    {
     "name": "stdout",
     "output_type": "stream",
     "text": [
      "<class 'pandas.core.frame.DataFrame'>\n",
      "Int64Index: 46739 entries, 0 to 2338115\n",
      "Data columns (total 1 columns):\n",
      "user_id    46739 non-null int64\n",
      "dtypes: int64(1)\n",
      "memory usage: 730.3 KB\n"
     ]
    }
   ],
   "source": [
    "#筛选符合条件的账单记录表的用户id：\n",
    "df1 = pd.merge(left = df_bill_train, right= df_loan_train, how = 'left',on = 'user_id')\n",
    "t1 = df1[(df1['time_x']<=df1['time_y'])]\n",
    "bill_user = t1[['user_id']]\n",
    "bill_user = bill_user.drop_duplicates(subset = 'user_id',keep='first')\n",
    "bill_user.info()\n",
    "#账单记录表中符合条件的还有46739个不同用户。"
   ]
  },
  {
   "cell_type": "code",
   "execution_count": 22,
   "metadata": {},
   "outputs": [
    {
     "name": "stdout",
     "output_type": "stream",
     "text": [
      "<class 'pandas.core.frame.DataFrame'>\n",
      "Int64Index: 44945 entries, 0 to 22919430\n",
      "Data columns (total 1 columns):\n",
      "user_id    44945 non-null int64\n",
      "dtypes: int64(1)\n",
      "memory usage: 702.3 KB\n"
     ]
    }
   ],
   "source": [
    "#筛选符合条件的浏览信息表的用户id：\n",
    "df2 = pd.merge(left = df_browse_train, right= df_loan_train, how = 'left',on = 'user_id')\n",
    "t2= df2[(df2['time_x']<=df2['time_y'])]\n",
    "browse_user = t2[['user_id']]\n",
    "browse_user= browse_user.drop_duplicates(subset = 'user_id',keep='first')\n",
    "browse_user.info()\n",
    "\n",
    "#浏览信息表中符合条件的还有44945个不同用户。"
   ]
  },
  {
   "cell_type": "code",
   "execution_count": 23,
   "metadata": {},
   "outputs": [
    {
     "name": "stdout",
     "output_type": "stream",
     "text": [
      "<class 'pandas.core.frame.DataFrame'>\n",
      "Int64Index: 5735 entries, 0 to 5734\n",
      "Data columns (total 1 columns):\n",
      "user_id    5735 non-null int64\n",
      "dtypes: int64(1)\n",
      "memory usage: 89.6 KB\n"
     ]
    }
   ],
   "source": [
    "#筛选出这6张表共有的用户id（实际为上述的三张表共同的用户id即可）\n",
    "user1 = pd.merge(left=bank_user,right=browse_user,how='inner',on = 'user_id')\n",
    "user2 = pd.merge(left=user1,right=bill_user,how='inner',on = 'user_id')\n",
    "user2.info()\n",
    "\n",
    "#得出5735个用户的记录是完整的。然后通过这5735个id筛选每张表的记录，并进行字段预处理。"
   ]
  },
  {
   "cell_type": "markdown",
   "metadata": {},
   "source": [
    "## 银行记录表"
   ]
  },
  {
   "cell_type": "code",
   "execution_count": 24,
   "metadata": {},
   "outputs": [],
   "source": [
    "#先筛选出id为‘user2’的记录，根据收入，支出以及工资这三个字段的交易类型进行筛选，并按id进行分组统计，每个分组中生成新的变量。\n",
    "bank_select = pd.merge(left=df_bank_train,right = user2,how='inner',on='user_id')\n",
    "b1= bank_select[(bank_select['loan_type'] == 0)].groupby(['user_id'], as_index=False)  # 收入统计\n",
    "b2 = bank_select[(bank_select['loan_type'] == 1)].groupby(['user_id'], as_index=False)  # 支出统计\n",
    "b3 = bank_select[(bank_select['income'] == 1)].groupby(['user_id'], as_index=False)  # 工资收入统计\n",
    "c1 = b1['loan_amount'].agg({'income_num': 'count', 'income_amount': 'sum'})  #三表共有用户在放款之前的收入次数和收入总额\n",
    "c2 = b2['loan_amount'].agg({'expen_num': 'count', 'expen_amount': 'sum'})  #支出次数和支出额\n",
    "c3 = b3['loan_amount'].agg({'wages_num': 'count', 'wages_amount': 'sum'})  #工资收入次数和工资收入额"
   ]
  },
  {
   "cell_type": "code",
   "execution_count": 25,
   "metadata": {},
   "outputs": [],
   "source": [
    "#将生成的字段分别与user2 id交叉组合到一起，由于是分组统计生成的字段，分组外用户id对应的数据是缺失的，这里缺失的数据全部填0\n",
    "d1 = pd.merge(left=user2,right =c1,how = 'left',on='user_id')\n",
    "d1 = d1.fillna(0)\n",
    "d2 = pd.merge(left=user2,right =c2,how = 'left',on='user_id')\n",
    "d2 = d2.fillna(0)\n",
    "d3 = pd.merge(left=user2,right =c3,how = 'left',on='user_id')\n",
    "d3 = d3.fillna(0)"
   ]
  },
  {
   "cell_type": "code",
   "execution_count": 26,
   "metadata": {
    "scrolled": true
   },
   "outputs": [
    {
     "data": {
      "text/html": [
       "<div>\n",
       "<style scoped>\n",
       "    .dataframe tbody tr th:only-of-type {\n",
       "        vertical-align: middle;\n",
       "    }\n",
       "\n",
       "    .dataframe tbody tr th {\n",
       "        vertical-align: top;\n",
       "    }\n",
       "\n",
       "    .dataframe thead th {\n",
       "        text-align: right;\n",
       "    }\n",
       "</style>\n",
       "<table border=\"1\" class=\"dataframe\">\n",
       "  <thead>\n",
       "    <tr style=\"text-align: right;\">\n",
       "      <th></th>\n",
       "      <th>user_id</th>\n",
       "      <th>income_num</th>\n",
       "      <th>income_amount</th>\n",
       "      <th>expen_num</th>\n",
       "      <th>expen_amount</th>\n",
       "      <th>wages_num</th>\n",
       "      <th>wages_amount</th>\n",
       "    </tr>\n",
       "  </thead>\n",
       "  <tbody>\n",
       "    <tr>\n",
       "      <th>0</th>\n",
       "      <td>6965</td>\n",
       "      <td>75.0</td>\n",
       "      <td>972.850228</td>\n",
       "      <td>289.0</td>\n",
       "      <td>3234.531975</td>\n",
       "      <td>0.0</td>\n",
       "      <td>0.000000</td>\n",
       "    </tr>\n",
       "    <tr>\n",
       "      <th>1</th>\n",
       "      <td>1265</td>\n",
       "      <td>125.0</td>\n",
       "      <td>1708.206195</td>\n",
       "      <td>294.0</td>\n",
       "      <td>3662.457063</td>\n",
       "      <td>0.0</td>\n",
       "      <td>0.000000</td>\n",
       "    </tr>\n",
       "    <tr>\n",
       "      <th>2</th>\n",
       "      <td>2583</td>\n",
       "      <td>213.0</td>\n",
       "      <td>2736.475318</td>\n",
       "      <td>618.0</td>\n",
       "      <td>7064.310678</td>\n",
       "      <td>0.0</td>\n",
       "      <td>0.000000</td>\n",
       "    </tr>\n",
       "    <tr>\n",
       "      <th>3</th>\n",
       "      <td>29165</td>\n",
       "      <td>189.0</td>\n",
       "      <td>2277.607807</td>\n",
       "      <td>473.0</td>\n",
       "      <td>5099.861165</td>\n",
       "      <td>14.0</td>\n",
       "      <td>202.630532</td>\n",
       "    </tr>\n",
       "    <tr>\n",
       "      <th>4</th>\n",
       "      <td>2443</td>\n",
       "      <td>252.0</td>\n",
       "      <td>3020.288782</td>\n",
       "      <td>341.0</td>\n",
       "      <td>3762.790364</td>\n",
       "      <td>0.0</td>\n",
       "      <td>0.000000</td>\n",
       "    </tr>\n",
       "  </tbody>\n",
       "</table>\n",
       "</div>"
      ],
      "text/plain": [
       "   user_id  income_num  income_amount  expen_num  expen_amount  wages_num  \\\n",
       "0     6965        75.0     972.850228      289.0   3234.531975        0.0   \n",
       "1     1265       125.0    1708.206195      294.0   3662.457063        0.0   \n",
       "2     2583       213.0    2736.475318      618.0   7064.310678        0.0   \n",
       "3    29165       189.0    2277.607807      473.0   5099.861165       14.0   \n",
       "4     2443       252.0    3020.288782      341.0   3762.790364        0.0   \n",
       "\n",
       "   wages_amount  \n",
       "0      0.000000  \n",
       "1      0.000000  \n",
       "2      0.000000  \n",
       "3    202.630532  \n",
       "4      0.000000  "
      ]
     },
     "execution_count": 26,
     "metadata": {},
     "output_type": "execute_result"
    }
   ],
   "source": [
    "#将填充完整的六个字段组合到一起\n",
    "bank_train = d1.merge(d2)\n",
    "bank_train = bank_train.merge(d3)\n",
    "bank_train.head()"
   ]
  },
  {
   "cell_type": "markdown",
   "metadata": {},
   "source": [
    "## 账单信息表"
   ]
  },
  {
   "cell_type": "code",
   "execution_count": 27,
   "metadata": {},
   "outputs": [
    {
     "data": {
      "text/html": [
       "<div>\n",
       "<style scoped>\n",
       "    .dataframe tbody tr th:only-of-type {\n",
       "        vertical-align: middle;\n",
       "    }\n",
       "\n",
       "    .dataframe tbody tr th {\n",
       "        vertical-align: top;\n",
       "    }\n",
       "\n",
       "    .dataframe thead th {\n",
       "        text-align: right;\n",
       "    }\n",
       "</style>\n",
       "<table border=\"1\" class=\"dataframe\">\n",
       "  <thead>\n",
       "    <tr style=\"text-align: right;\">\n",
       "      <th></th>\n",
       "      <th>user_id</th>\n",
       "      <th>last_bill_amount</th>\n",
       "      <th>last_repay_amount</th>\n",
       "      <th>credit_amount</th>\n",
       "      <th>cur_bill_bal</th>\n",
       "      <th>cur_bill_minrepay</th>\n",
       "      <th>cons_num</th>\n",
       "      <th>cur_bill_amount</th>\n",
       "      <th>adjust_amount</th>\n",
       "      <th>cyclic_accr</th>\n",
       "      <th>avail_bal</th>\n",
       "      <th>borrow_cash</th>\n",
       "    </tr>\n",
       "  </thead>\n",
       "  <tbody>\n",
       "    <tr>\n",
       "      <th>0</th>\n",
       "      <td>6965</td>\n",
       "      <td>10.002659</td>\n",
       "      <td>12.733206</td>\n",
       "      <td>19.971271</td>\n",
       "      <td>19.957631</td>\n",
       "      <td>17.220095</td>\n",
       "      <td>10.750000</td>\n",
       "      <td>18.825107</td>\n",
       "      <td>0.000000</td>\n",
       "      <td>15.520681</td>\n",
       "      <td>0.0</td>\n",
       "      <td>19.624697</td>\n",
       "    </tr>\n",
       "    <tr>\n",
       "      <th>1</th>\n",
       "      <td>1265</td>\n",
       "      <td>17.715686</td>\n",
       "      <td>14.191595</td>\n",
       "      <td>19.973385</td>\n",
       "      <td>19.909123</td>\n",
       "      <td>17.866453</td>\n",
       "      <td>1.444444</td>\n",
       "      <td>19.007284</td>\n",
       "      <td>0.000000</td>\n",
       "      <td>5.175483</td>\n",
       "      <td>0.0</td>\n",
       "      <td>9.702118</td>\n",
       "    </tr>\n",
       "    <tr>\n",
       "      <th>2</th>\n",
       "      <td>2583</td>\n",
       "      <td>15.192264</td>\n",
       "      <td>15.265601</td>\n",
       "      <td>18.307126</td>\n",
       "      <td>17.736937</td>\n",
       "      <td>10.292788</td>\n",
       "      <td>1.791667</td>\n",
       "      <td>17.199134</td>\n",
       "      <td>0.000000</td>\n",
       "      <td>6.478271</td>\n",
       "      <td>0.0</td>\n",
       "      <td>11.014650</td>\n",
       "    </tr>\n",
       "    <tr>\n",
       "      <th>3</th>\n",
       "      <td>29165</td>\n",
       "      <td>-6.973236</td>\n",
       "      <td>12.852082</td>\n",
       "      <td>19.740221</td>\n",
       "      <td>17.921520</td>\n",
       "      <td>15.902257</td>\n",
       "      <td>0.000000</td>\n",
       "      <td>12.969975</td>\n",
       "      <td>0.000000</td>\n",
       "      <td>0.000000</td>\n",
       "      <td>0.0</td>\n",
       "      <td>6.001719</td>\n",
       "    </tr>\n",
       "    <tr>\n",
       "      <th>4</th>\n",
       "      <td>2443</td>\n",
       "      <td>16.759482</td>\n",
       "      <td>4.151986</td>\n",
       "      <td>17.309158</td>\n",
       "      <td>19.397134</td>\n",
       "      <td>18.206423</td>\n",
       "      <td>2.251572</td>\n",
       "      <td>15.892834</td>\n",
       "      <td>0.229931</td>\n",
       "      <td>4.082358</td>\n",
       "      <td>0.0</td>\n",
       "      <td>10.873986</td>\n",
       "    </tr>\n",
       "  </tbody>\n",
       "</table>\n",
       "</div>"
      ],
      "text/plain": [
       "   user_id  last_bill_amount  last_repay_amount  credit_amount  cur_bill_bal  \\\n",
       "0     6965         10.002659          12.733206      19.971271     19.957631   \n",
       "1     1265         17.715686          14.191595      19.973385     19.909123   \n",
       "2     2583         15.192264          15.265601      18.307126     17.736937   \n",
       "3    29165         -6.973236          12.852082      19.740221     17.921520   \n",
       "4     2443         16.759482           4.151986      17.309158     19.397134   \n",
       "\n",
       "   cur_bill_minrepay   cons_num  cur_bill_amount  adjust_amount  cyclic_accr  \\\n",
       "0          17.220095  10.750000        18.825107       0.000000    15.520681   \n",
       "1          17.866453   1.444444        19.007284       0.000000     5.175483   \n",
       "2          10.292788   1.791667        17.199134       0.000000     6.478271   \n",
       "3          15.902257   0.000000        12.969975       0.000000     0.000000   \n",
       "4          18.206423   2.251572        15.892834       0.229931     4.082358   \n",
       "\n",
       "   avail_bal  borrow_cash  \n",
       "0        0.0    19.624697  \n",
       "1        0.0     9.702118  \n",
       "2        0.0    11.014650  \n",
       "3        0.0     6.001719  \n",
       "4        0.0    10.873986  "
      ]
     },
     "execution_count": 27,
     "metadata": {},
     "output_type": "execute_result"
    }
   ],
   "source": [
    "#去掉了时间、银行id、还款状态这几个变量，按用户id分组后对每个字段均值化处理\n",
    "bill_select = pd.merge(left=df_bill_train,right = user2,how='inner',on='user_id')\n",
    "bill_select.drop(['time','bank_id','repay_status'], axis=1, inplace=True)\n",
    "e1=bill_select.groupby(['user_id'], as_index=False)\n",
    "f1= e1['last_bill_amount','last_repay_amount','credit_amount','cur_bill_bal','cur_bill_minrepay','cons_num','cur_bill_amount','adjust_amount','cyclic_accr','avail_bal','borrow_cash'].agg(np.mean)\n",
    "bill_train = pd.merge(left=user2,right =f1,how = 'left',on='user_id')\n",
    "bill_train.head()"
   ]
  },
  {
   "cell_type": "markdown",
   "metadata": {},
   "source": [
    "## 浏览记录表"
   ]
  },
  {
   "cell_type": "code",
   "execution_count": 28,
   "metadata": {},
   "outputs": [
    {
     "data": {
      "text/html": [
       "<div>\n",
       "<style scoped>\n",
       "    .dataframe tbody tr th:only-of-type {\n",
       "        vertical-align: middle;\n",
       "    }\n",
       "\n",
       "    .dataframe tbody tr th {\n",
       "        vertical-align: top;\n",
       "    }\n",
       "\n",
       "    .dataframe thead th {\n",
       "        text-align: right;\n",
       "    }\n",
       "</style>\n",
       "<table border=\"1\" class=\"dataframe\">\n",
       "  <thead>\n",
       "    <tr style=\"text-align: right;\">\n",
       "      <th></th>\n",
       "      <th>user_id</th>\n",
       "      <th>brows_beh</th>\n",
       "    </tr>\n",
       "  </thead>\n",
       "  <tbody>\n",
       "    <tr>\n",
       "      <th>0</th>\n",
       "      <td>6965</td>\n",
       "      <td>1710</td>\n",
       "    </tr>\n",
       "    <tr>\n",
       "      <th>1</th>\n",
       "      <td>1265</td>\n",
       "      <td>420</td>\n",
       "    </tr>\n",
       "    <tr>\n",
       "      <th>2</th>\n",
       "      <td>2583</td>\n",
       "      <td>702</td>\n",
       "    </tr>\n",
       "    <tr>\n",
       "      <th>3</th>\n",
       "      <td>29165</td>\n",
       "      <td>783</td>\n",
       "    </tr>\n",
       "    <tr>\n",
       "      <th>4</th>\n",
       "      <td>2443</td>\n",
       "      <td>671</td>\n",
       "    </tr>\n",
       "  </tbody>\n",
       "</table>\n",
       "</div>"
      ],
      "text/plain": [
       "   user_id  brows_beh\n",
       "0     6965       1710\n",
       "1     1265        420\n",
       "2     2583        702\n",
       "3    29165        783\n",
       "4     2443        671"
      ]
     },
     "execution_count": 28,
     "metadata": {},
     "output_type": "execute_result"
    }
   ],
   "source": [
    "#去掉浏览子行为这个变量，对浏览行为数据变量作了按用户id做分组计数统计。\n",
    "browse_select = pd.merge(left=df_browse_train,right = user2,how='inner',on='user_id')\n",
    "g1= browse_select.groupby(['user_id'], as_index=False)\n",
    "h1= g1['brows_beh'].agg({'brows_beh': 'count', }) \n",
    "browse_train = pd.merge(left=user2,right =h1,how = 'left',on='user_id')\n",
    "browse_train.head()"
   ]
  },
  {
   "cell_type": "markdown",
   "metadata": {},
   "source": [
    "## 对剩下的用户信息表和逾期记录表筛选"
   ]
  },
  {
   "cell_type": "code",
   "execution_count": 29,
   "metadata": {},
   "outputs": [],
   "source": [
    "#对剩下的用户信息表和逾期记录表筛选\n",
    "overdue_train = pd.merge(left=df_overdue_train,right = user2,how='inner',on='user_id')\n",
    "user_train = pd.merge(left=df_user_train,right = user2,how='inner',on='user_id')"
   ]
  },
  {
   "cell_type": "code",
   "execution_count": null,
   "metadata": {},
   "outputs": [],
   "source": []
  },
  {
   "cell_type": "code",
   "execution_count": 30,
   "metadata": {},
   "outputs": [
    {
     "data": {
      "text/html": [
       "<div>\n",
       "<style scoped>\n",
       "    .dataframe tbody tr th:only-of-type {\n",
       "        vertical-align: middle;\n",
       "    }\n",
       "\n",
       "    .dataframe tbody tr th {\n",
       "        vertical-align: top;\n",
       "    }\n",
       "\n",
       "    .dataframe thead th {\n",
       "        text-align: right;\n",
       "    }\n",
       "</style>\n",
       "<table border=\"1\" class=\"dataframe\">\n",
       "  <thead>\n",
       "    <tr style=\"text-align: right;\">\n",
       "      <th></th>\n",
       "      <th>user_id</th>\n",
       "      <th>sex</th>\n",
       "      <th>job</th>\n",
       "      <th>eduction</th>\n",
       "      <th>marriage</th>\n",
       "      <th>residence</th>\n",
       "      <th>income_num</th>\n",
       "      <th>income_amount</th>\n",
       "      <th>expen_num</th>\n",
       "      <th>expen_amount</th>\n",
       "      <th>...</th>\n",
       "      <th>cur_bill_bal</th>\n",
       "      <th>cur_bill_minrepay</th>\n",
       "      <th>cons_num</th>\n",
       "      <th>cur_bill_amount</th>\n",
       "      <th>adjust_amount</th>\n",
       "      <th>cyclic_accr</th>\n",
       "      <th>avail_bal</th>\n",
       "      <th>borrow_cash</th>\n",
       "      <th>brows_beh</th>\n",
       "      <th>overdue</th>\n",
       "    </tr>\n",
       "  </thead>\n",
       "  <tbody>\n",
       "    <tr>\n",
       "      <th>0</th>\n",
       "      <td>6965</td>\n",
       "      <td>1</td>\n",
       "      <td>2</td>\n",
       "      <td>4</td>\n",
       "      <td>3</td>\n",
       "      <td>2</td>\n",
       "      <td>75.0</td>\n",
       "      <td>972.850228</td>\n",
       "      <td>289.0</td>\n",
       "      <td>3234.531975</td>\n",
       "      <td>...</td>\n",
       "      <td>19.957631</td>\n",
       "      <td>17.220095</td>\n",
       "      <td>10.750000</td>\n",
       "      <td>18.825107</td>\n",
       "      <td>0.000000</td>\n",
       "      <td>15.520681</td>\n",
       "      <td>0.0</td>\n",
       "      <td>19.624697</td>\n",
       "      <td>1710</td>\n",
       "      <td>0</td>\n",
       "    </tr>\n",
       "    <tr>\n",
       "      <th>1</th>\n",
       "      <td>1265</td>\n",
       "      <td>1</td>\n",
       "      <td>3</td>\n",
       "      <td>4</td>\n",
       "      <td>3</td>\n",
       "      <td>1</td>\n",
       "      <td>125.0</td>\n",
       "      <td>1708.206195</td>\n",
       "      <td>294.0</td>\n",
       "      <td>3662.457063</td>\n",
       "      <td>...</td>\n",
       "      <td>19.909123</td>\n",
       "      <td>17.866453</td>\n",
       "      <td>1.444444</td>\n",
       "      <td>19.007284</td>\n",
       "      <td>0.000000</td>\n",
       "      <td>5.175483</td>\n",
       "      <td>0.0</td>\n",
       "      <td>9.702118</td>\n",
       "      <td>420</td>\n",
       "      <td>0</td>\n",
       "    </tr>\n",
       "    <tr>\n",
       "      <th>2</th>\n",
       "      <td>2583</td>\n",
       "      <td>2</td>\n",
       "      <td>2</td>\n",
       "      <td>2</td>\n",
       "      <td>1</td>\n",
       "      <td>1</td>\n",
       "      <td>213.0</td>\n",
       "      <td>2736.475318</td>\n",
       "      <td>618.0</td>\n",
       "      <td>7064.310678</td>\n",
       "      <td>...</td>\n",
       "      <td>17.736937</td>\n",
       "      <td>10.292788</td>\n",
       "      <td>1.791667</td>\n",
       "      <td>17.199134</td>\n",
       "      <td>0.000000</td>\n",
       "      <td>6.478271</td>\n",
       "      <td>0.0</td>\n",
       "      <td>11.014650</td>\n",
       "      <td>702</td>\n",
       "      <td>0</td>\n",
       "    </tr>\n",
       "    <tr>\n",
       "      <th>3</th>\n",
       "      <td>29165</td>\n",
       "      <td>1</td>\n",
       "      <td>2</td>\n",
       "      <td>4</td>\n",
       "      <td>1</td>\n",
       "      <td>4</td>\n",
       "      <td>189.0</td>\n",
       "      <td>2277.607807</td>\n",
       "      <td>473.0</td>\n",
       "      <td>5099.861165</td>\n",
       "      <td>...</td>\n",
       "      <td>17.921520</td>\n",
       "      <td>15.902257</td>\n",
       "      <td>0.000000</td>\n",
       "      <td>12.969975</td>\n",
       "      <td>0.000000</td>\n",
       "      <td>0.000000</td>\n",
       "      <td>0.0</td>\n",
       "      <td>6.001719</td>\n",
       "      <td>783</td>\n",
       "      <td>0</td>\n",
       "    </tr>\n",
       "    <tr>\n",
       "      <th>4</th>\n",
       "      <td>2443</td>\n",
       "      <td>1</td>\n",
       "      <td>4</td>\n",
       "      <td>4</td>\n",
       "      <td>3</td>\n",
       "      <td>1</td>\n",
       "      <td>252.0</td>\n",
       "      <td>3020.288782</td>\n",
       "      <td>341.0</td>\n",
       "      <td>3762.790364</td>\n",
       "      <td>...</td>\n",
       "      <td>19.397134</td>\n",
       "      <td>18.206423</td>\n",
       "      <td>2.251572</td>\n",
       "      <td>15.892834</td>\n",
       "      <td>0.229931</td>\n",
       "      <td>4.082358</td>\n",
       "      <td>0.0</td>\n",
       "      <td>10.873986</td>\n",
       "      <td>671</td>\n",
       "      <td>0</td>\n",
       "    </tr>\n",
       "  </tbody>\n",
       "</table>\n",
       "<p>5 rows × 25 columns</p>\n",
       "</div>"
      ],
      "text/plain": [
       "   user_id  sex  job  eduction  marriage  residence  income_num  \\\n",
       "0     6965    1    2         4         3          2        75.0   \n",
       "1     1265    1    3         4         3          1       125.0   \n",
       "2     2583    2    2         2         1          1       213.0   \n",
       "3    29165    1    2         4         1          4       189.0   \n",
       "4     2443    1    4         4         3          1       252.0   \n",
       "\n",
       "   income_amount  expen_num  expen_amount  ...  cur_bill_bal  \\\n",
       "0     972.850228      289.0   3234.531975  ...     19.957631   \n",
       "1    1708.206195      294.0   3662.457063  ...     19.909123   \n",
       "2    2736.475318      618.0   7064.310678  ...     17.736937   \n",
       "3    2277.607807      473.0   5099.861165  ...     17.921520   \n",
       "4    3020.288782      341.0   3762.790364  ...     19.397134   \n",
       "\n",
       "   cur_bill_minrepay   cons_num  cur_bill_amount  adjust_amount  cyclic_accr  \\\n",
       "0          17.220095  10.750000        18.825107       0.000000    15.520681   \n",
       "1          17.866453   1.444444        19.007284       0.000000     5.175483   \n",
       "2          10.292788   1.791667        17.199134       0.000000     6.478271   \n",
       "3          15.902257   0.000000        12.969975       0.000000     0.000000   \n",
       "4          18.206423   2.251572        15.892834       0.229931     4.082358   \n",
       "\n",
       "   avail_bal  borrow_cash  brows_beh  overdue  \n",
       "0        0.0    19.624697       1710        0  \n",
       "1        0.0     9.702118        420        0  \n",
       "2        0.0    11.014650        702        0  \n",
       "3        0.0     6.001719        783        0  \n",
       "4        0.0    10.873986        671        0  \n",
       "\n",
       "[5 rows x 25 columns]"
      ]
     },
     "execution_count": 30,
     "metadata": {},
     "output_type": "execute_result"
    }
   ],
   "source": [
    "#将筛选后的五个表进行合并\n",
    "df_train = user_train.merge(bank_train)\n",
    "df_train = df_train.merge(bill_train)\n",
    "df_train = df_train.merge(browse_train)\n",
    "df_train = df_train.merge(overdue_train)\n",
    "df_train.head()"
   ]
  },
  {
   "cell_type": "code",
   "execution_count": 31,
   "metadata": {
    "scrolled": true
   },
   "outputs": [
    {
     "name": "stdout",
     "output_type": "stream",
     "text": [
      "<class 'pandas.core.frame.DataFrame'>\n",
      "Int64Index: 5735 entries, 0 to 5734\n",
      "Data columns (total 25 columns):\n",
      "user_id              5735 non-null int64\n",
      "sex                  5735 non-null int64\n",
      "job                  5735 non-null int64\n",
      "eduction             5735 non-null int64\n",
      "marriage             5735 non-null int64\n",
      "residence            5735 non-null int64\n",
      "income_num           5735 non-null float64\n",
      "income_amount        5735 non-null float64\n",
      "expen_num            5735 non-null float64\n",
      "expen_amount         5735 non-null float64\n",
      "wages_num            5735 non-null float64\n",
      "wages_amount         5735 non-null float64\n",
      "last_bill_amount     5735 non-null float64\n",
      "last_repay_amount    5735 non-null float64\n",
      "credit_amount        5735 non-null float64\n",
      "cur_bill_bal         5735 non-null float64\n",
      "cur_bill_minrepay    5735 non-null float64\n",
      "cons_num             5735 non-null float64\n",
      "cur_bill_amount      5735 non-null float64\n",
      "adjust_amount        5735 non-null float64\n",
      "cyclic_accr          5735 non-null float64\n",
      "avail_bal            5735 non-null float64\n",
      "borrow_cash          5735 non-null float64\n",
      "brows_beh            5735 non-null int64\n",
      "overdue              5735 non-null int64\n",
      "dtypes: float64(17), int64(8)\n",
      "memory usage: 1.1 MB\n"
     ]
    }
   ],
   "source": [
    "df_train.info()\n",
    "#现在还有25个字段"
   ]
  },
  {
   "cell_type": "markdown",
   "metadata": {},
   "source": [
    "# 特征选择"
   ]
  },
  {
   "cell_type": "code",
   "execution_count": 32,
   "metadata": {
    "scrolled": true
   },
   "outputs": [
    {
     "data": {
      "text/plain": [
       "<matplotlib.axes._subplots.AxesSubplot at 0xb291da0>"
      ]
     },
     "execution_count": 32,
     "metadata": {},
     "output_type": "execute_result"
    },
    {
     "data": {
      "image/png": "[encoded data removed]",
      "text/plain": [
       "<Figure size 576x576 with 2 Axes>"
      ]
     },
     "metadata": {
      "needs_background": "light"
     },
     "output_type": "display_data"
    }
   ],
   "source": [
    "#银行流水记录特征：\n",
    "internal_chars = ['income_num','income_amount','expen_num','expen_amount','wages_num','wages_amount']\n",
    "corrmat = bank_train[internal_chars].corr()\n",
    "plt.subplots(figsize=(8,8))\n",
    "sns.heatmap(corrmat, square=True, linewidths=.5, annot=True)\n",
    "#可以看出收入/支出/工资的笔数和金额数目是线性关系，同时收入支出相关性同样较强。"
   ]
  },
  {
   "cell_type": "code",
   "execution_count": 33,
   "metadata": {},
   "outputs": [
    {
     "data": {
      "text/plain": [
       "<matplotlib.axes._subplots.AxesSubplot at 0xb160c50>"
      ]
     },
     "execution_count": 33,
     "metadata": {},
     "output_type": "execute_result"
    },
    {
     "data": {
      "image/png": "[encoded data removed]",
      "text/plain": [
       "<Figure size 720x576 with 2 Axes>"
      ]
     },
     "metadata": {
      "needs_background": "light"
     },
     "output_type": "display_data"
    }
   ],
   "source": [
    "#信用卡记录特征：\n",
    "internal_chars = ['last_bill_amount','last_repay_amount','credit_amount','cur_bill_bal','cur_bill_minrepay'\n",
    "                  ,'cons_num','cur_bill_amount','adjust_amount','cyclic_accr','avail_bal','borrow_cash']\n",
    "corrmat = df_train[internal_chars].corr()\n",
    "f, ax = plt.subplots(figsize=(10, 8))\n",
    "plt.xticks(rotation='0')\n",
    "sns.heatmap(corrmat, square=False, linewidths=.5, annot=True)\n",
    "#可以看出上期账单金额last_bill_amount和上期还款金额last_repay_amount、本期账单余额cur_bill_bal 和本期账单最低还款额 cur_bill_minrepay、\n",
    "#上期还款金额last_repay_amount和本期账单金额cur_bill_amount的相关性较强。"
   ]
  },
  {
   "cell_type": "code",
   "execution_count": null,
   "metadata": {},
   "outputs": [],
   "source": []
  },
  {
   "cell_type": "code",
   "execution_count": null,
   "metadata": {},
   "outputs": [],
   "source": []
  },
  {
   "cell_type": "code",
   "execution_count": null,
   "metadata": {},
   "outputs": [],
   "source": []
  },
  {
   "cell_type": "code",
   "execution_count": null,
   "metadata": {},
   "outputs": [],
   "source": []
  },
  {
   "cell_type": "code",
   "execution_count": null,
   "metadata": {},
   "outputs": [],
   "source": []
  },
  {
   "cell_type": "code",
   "execution_count": null,
   "metadata": {},
   "outputs": [],
   "source": []
  }
 ],
 "metadata": {
  "kernelspec": {
   "display_name": "Python 3",
   "language": "python",
   "name": "python3"
  },
  "language_info": {
   "codemirror_mode": {
    "name": "ipython",
    "version": 3
   },
   "file_extension": ".py",
   "mimetype": "text/x-python",
   "name": "python",
   "nbconvert_exporter": "python",
   "pygments_lexer": "ipython3",
   "version": "3.7.3"
  }
 },
 "nbformat": 4,
 "nbformat_minor": 2
}
